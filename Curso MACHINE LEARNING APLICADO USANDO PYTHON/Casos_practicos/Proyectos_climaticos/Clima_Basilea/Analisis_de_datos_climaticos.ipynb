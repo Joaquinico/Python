{
 "cells": [
  {
   "cell_type": "code",
   "execution_count": null,
   "id": "8266c06a-ec45-48f3-9883-f73327dabc22",
   "metadata": {},
   "outputs": [],
   "source": []
  },
  {
   "cell_type": "markdown",
   "id": "117fa0d8-af7d-46ba-90d3-e293cae6e2a7",
   "metadata": {},
   "source": [
    "\n",
    "## Caso práctico: análisis de datos climáticos\n",
    "\n",
    "Genera el código necesario para realizar las siguientes tareas que se encomiendan:\n",
    "\n",
    "1 Identifica el número de columnas y determina cuáles son los encabezados que tiene este archivo.\n",
    "2 Descarga los datos correspondientes al histórico de temperaturas en la ciudad y represéntalos gráficamente (no incorpores, de momento, \n",
    "  las fechas de captura de cada dato). Utiliza el estilo ‘seaborn’ de pyplot y representa la línea de temperaturas en color rojo.\n",
    "3 Determina el número de mediciones de temperatura que contiene el fichero Basilea_clima.csv.\n",
    "4 Identifica algunos valores recogidos en la primera columna y proporciona una explicación al número de mediciones de temperatura existentes.\n",
    "5 Un número tan elevado de mediciones distorsiona el análisis de las temperaturas diarias. \n",
    "  Por esto, sustituye todas las mediciones de temperatura que se realizan en un día por el valor medio que se alcanzó en dicho día, \n",
    "  es decir, has de crear una nueva lista en la que, para cada día, incorpores la media de las temperaturas del día en cuestión. \n",
    "  Considera exclusivamente los días correspondientes al mes de enero (desde el 1/01 hasta el 31/01). \n",
    "  Genera una segunda lista con las fechas correspondientes a dicho mes y procede a la representación gráfica. \n",
    "Por último, comprueba que, en efecto, la visualización es ahora mucho más sencilla\n"
   ]
  },
  {
   "cell_type": "markdown",
   "id": "326663ce-6ef5-40f2-b3f5-dff1ffd172a4",
   "metadata": {},
   "source": [
    "#### *Cargamos las librerias necesarias*"
   ]
  },
  {
   "cell_type": "code",
   "execution_count": 1,
   "id": "e66ef8d6-4f9b-4fdb-b865-548688130bea",
   "metadata": {},
   "outputs": [],
   "source": [
    "import matplotlib.pyplot as plt\n",
    "import pandas as pd\n",
    "import seaborn as sns\n",
    "import csv\n",
    "from datetime import datetime"
   ]
  },
  {
   "cell_type": "markdown",
   "id": "8d269544-c0d6-438b-8495-0b04970555bc",
   "metadata": {},
   "source": [
    "#### *se definen listas y variables*"
   ]
  },
  {
   "cell_type": "code",
   "execution_count": null,
   "id": "14bd064f-44a5-4774-8c22-4deb87d712ea",
   "metadata": {},
   "outputs": [],
   "source": [
    "temperaturas = []\n",
    "muestras_temperatura = []\n",
    "muestras_enero = []"
   ]
  },
  {
   "cell_type": "markdown",
   "id": "63378729-1893-4e1d-9fe0-9e537051bae3",
   "metadata": {},
   "source": [
    "#### *se carga como dataframe el archivo CSV con los datos usando pandas*"
   ]
  },
  {
   "cell_type": "code",
   "execution_count": 14,
   "id": "c36c149b-e683-44c0-ace9-d6e0fbfc601f",
   "metadata": {},
   "outputs": [
    {
     "name": "stdout",
     "output_type": "stream",
     "text": [
      "['timestamp' 'Basilea_Temperature' 'Basilea_Relative_Humidity'\n",
      " 'Basilea_Wind_Speed' 'Basilea_Wind_Direction']\n",
      "        timestamp  Basilea_Temperature  Basilea_Relative_Humidity  \\\n",
      "0   20210101T0000             3.290529                       89.0   \n",
      "1   20210101T0100             3.320528                       87.0   \n",
      "2   20210101T0200             2.350528                       90.0   \n",
      "3   20210101T0300             2.020529                       88.0   \n",
      "4   20210101T0400             1.710529                       86.0   \n",
      "5   20210101T0500             1.250529                       86.0   \n",
      "6   20210101T0600             0.570529                       88.0   \n",
      "7   20210101T0700            -0.289471                       88.0   \n",
      "8   20210101T0800            -0.859471                       91.0   \n",
      "9   20210101T0900            -0.919471                       90.0   \n",
      "10  20210101T1000            -0.619471                       89.0   \n",
      "11  20210101T1100             0.290529                       86.0   \n",
      "12  20210101T1200             1.330529                       81.0   \n",
      "13  20210101T1300             2.320528                       80.0   \n",
      "14  20210101T1400             3.920529                       80.0   \n",
      "15  20210101T1500             4.150528                       76.0   \n",
      "16  20210101T1600             4.060529                       76.0   \n",
      "17  20210101T1700             3.390528                       79.0   \n",
      "18  20210101T1800             2.250529                       83.0   \n",
      "19  20210101T1900             1.970529                       85.0   \n",
      "20  20210101T2000             1.730529                       85.0   \n",
      "21  20210101T2100             1.520529                       86.0   \n",
      "22  20210101T2200             1.120529                       90.0   \n",
      "23  20210101T2300             0.750529                       91.0   \n",
      "24  20210102T0000             0.610529                       91.0   \n",
      "\n",
      "    Basilea_Wind_Speed  Basilea_Wind_Direction  \n",
      "0             5.091168              225.000000  \n",
      "1            11.304229              260.837650  \n",
      "2            12.959999              270.000000  \n",
      "3            11.520000              270.000000  \n",
      "4            12.245294              271.684700  \n",
      "5            14.044615              268.531200  \n",
      "6            12.979984              273.179840  \n",
      "7            13.324863              271.548160  \n",
      "8            12.599999              270.000000  \n",
      "9            11.525623              268.210080  \n",
      "10           10.080000              270.000000  \n",
      "11            9.178235              281.309940  \n",
      "12            7.704336              322.594670  \n",
      "13           12.240000              360.000000  \n",
      "14           15.273505              351.869900  \n",
      "15           19.110542              356.760300  \n",
      "16           22.366402                3.691376  \n",
      "17           22.065973                5.617584  \n",
      "18           18.720000              360.000000  \n",
      "19           18.003600              358.854250  \n",
      "20           16.203999              358.727000  \n",
      "21           13.679999              360.000000  \n",
      "22           10.446206              358.025100  \n",
      "23            8.825508              348.231720  \n",
      "24            7.091177              336.037500  \n",
      "(6576, 5)\n"
     ]
    }
   ],
   "source": [
    "nom_fich = 'Basilea_clima.csv'\n",
    "df_basilea_clima = pd.read_csv(nom_fich)\n",
    "\n",
    "print(df_basilea_clima.columns.values)# muestra los encabezados de cada columna\n",
    "\n",
    "print(df_basilea_clima.head(25))# muestra los primeros 25 valores de la columna 0 'timestamp' del dataframe, lo que demuetra que se toma una muestra de temperatura cada hora de cada dia.\n",
    "\n",
    "print(df_basilea_clima.shape) # muestra el numero de mediciones que contiene el archivo CSV"
   ]
  },
  {
   "cell_type": "markdown",
   "id": "7142fc08-7cf4-4245-8355-d1c1941986bf",
   "metadata": {},
   "source": [
    "#### *Conversion y filtrado de fechas*"
   ]
  },
  {
   "cell_type": "code",
   "execution_count": 15,
   "id": "75c70545-0016-4f62-a10c-449576828c41",
   "metadata": {},
   "outputs": [
    {
     "name": "stdout",
     "output_type": "stream",
     "text": [
      "registros de enero:               timestamp  Basilea_Temperature  Basilea_Relative_Humidity  \\\n",
      "0   2021-01-01 00:00:00             3.290529                       89.0   \n",
      "1   2021-01-01 01:00:00             3.320528                       87.0   \n",
      "2   2021-01-01 02:00:00             2.350528                       90.0   \n",
      "3   2021-01-01 03:00:00             2.020529                       88.0   \n",
      "4   2021-01-01 04:00:00             1.710529                       86.0   \n",
      "..                  ...                  ...                        ...   \n",
      "739 2021-01-31 19:00:00             7.950529                       83.0   \n",
      "740 2021-01-31 20:00:00             7.840528                       85.0   \n",
      "741 2021-01-31 21:00:00             7.760529                       85.0   \n",
      "742 2021-01-31 22:00:00             7.780528                       85.0   \n",
      "743 2021-01-31 23:00:00             7.420528                       84.0   \n",
      "\n",
      "     Basilea_Wind_Speed  Basilea_Wind_Direction  \n",
      "0              5.091168               225.00000  \n",
      "1             11.304229               260.83765  \n",
      "2             12.959999               270.00000  \n",
      "3             11.520000               270.00000  \n",
      "4             12.245294               271.68470  \n",
      "..                  ...                     ...  \n",
      "739            3.415260                71.56504  \n",
      "740            3.240000                89.99999  \n",
      "741            3.758510               106.69924  \n",
      "742            5.904439               127.56859  \n",
      "743            8.287822               145.61966  \n",
      "\n",
      "[744 rows x 5 columns]\n",
      "registros de febrero:                timestamp  Basilea_Temperature  Basilea_Relative_Humidity  \\\n",
      "744  2021-02-01 00:00:00             7.680529                       75.0   \n",
      "745  2021-02-01 01:00:00             7.590528                       77.0   \n",
      "746  2021-02-01 02:00:00             7.510529                       78.0   \n",
      "747  2021-02-01 03:00:00             7.320528                       78.0   \n",
      "748  2021-02-01 04:00:00             7.280528                       76.0   \n",
      "...                  ...                  ...                        ...   \n",
      "1411 2021-02-28 19:00:00            10.980529                       43.0   \n",
      "1412 2021-02-28 20:00:00             8.880529                       49.0   \n",
      "1413 2021-02-28 21:00:00             7.280528                       54.0   \n",
      "1414 2021-02-28 22:00:00             6.490529                       55.0   \n",
      "1415 2021-02-28 23:00:00             5.570528                       59.0   \n",
      "\n",
      "      Basilea_Wind_Speed  Basilea_Wind_Direction  \n",
      "744             8.654986              163.072480  \n",
      "745             8.427383              160.016890  \n",
      "746             9.511088              150.524110  \n",
      "747            11.275530              163.300750  \n",
      "748            10.823973              176.185930  \n",
      "...                  ...                     ...  \n",
      "1411           13.797912               82.504135  \n",
      "1412           13.084402               82.092834  \n",
      "1413           11.570515               95.355820  \n",
      "1414           10.239453              100.124664  \n",
      "1415            8.654986              106.927510  \n",
      "\n",
      "[672 rows x 5 columns]\n"
     ]
    },
    {
     "name": "stderr",
     "output_type": "stream",
     "text": [
      "C:\\Users\\Usuario\\AppData\\Local\\Temp\\ipykernel_14712\\2863053831.py:2: UserWarning: Parsing dates in %Y%m%dT%H%M format when dayfirst=True was specified. Pass `dayfirst=False` or specify a format to silence this warning.\n",
      "  df_basilea_clima['timestamp'] = pd.to_datetime(df_basilea_clima['timestamp'], dayfirst=True)\n"
     ]
    }
   ],
   "source": [
    "# 1. Convertimos la columna de 'timestamp' o fecha a tipo datetime\n",
    "df_basilea_clima['timestamp'] = pd.to_datetime(df_basilea_clima['timestamp'], dayfirst=True)\n",
    "\n",
    "\n",
    "# 2. Filtrar solo los datos de enero\n",
    "df_enero = df_basilea_clima[df_basilea_clima['timestamp'].dt.month == 1]\n",
    "print(f'registros de enero: {df_enero}')\n",
    "\n",
    "#Filtrar solo los datos de febrero\n",
    "df_febrero = df_basilea_clima[df_basilea_clima['timestamp'].dt.month == 2]\n",
    "print(f'registros de febrero: {df_febrero}')\n",
    "\n",
    "# 3. Agrupar por día y calcular la media\n",
    "media_diaria_enero = df_enero.groupby(df_enero['timestamp'].dt.date)['Basilea_Temperature'].mean()\n",
    "\n",
    "# Calcular la media de cada mes\n",
    "media_mensual = df_basilea_clima.groupby(df_basilea_clima['timestamp'].dt.to_period('M'))['Basilea_Temperature'].mean()"
   ]
  },
  {
   "cell_type": "markdown",
   "id": "e5b4d129-0a54-4681-a5fb-6e1df043df8c",
   "metadata": {},
   "source": [
    "#### *otra forma de abrir el CSV para lectura*"
   ]
  },
  {
   "cell_type": "code",
   "execution_count": 16,
   "id": "5cb892a8-31e6-4887-8051-9e68b374a7f6",
   "metadata": {},
   "outputs": [],
   "source": [
    "with open(nom_fich) as f:\n",
    "    lector = csv.reader(f, delimiter=',')\n",
    "    encabezados = next(lector)\n",
    "    for linea in lector:\n",
    "        v_temperaturas = float(linea[1])\n",
    "        temperaturas.append(v_temperaturas)"
   ]
  },
  {
   "cell_type": "markdown",
   "id": "2dd66fc9-224f-482e-8cdf-b2b2878ed285",
   "metadata": {},
   "source": [
    "#### *creacion del grafico de temperaturas*"
   ]
  },
  {
   "cell_type": "code",
   "execution_count": 17,
   "id": "249f8cf4-749a-4e4f-8758-f087a7bded7f",
   "metadata": {},
   "outputs": [
    {
     "data": {
      "image/png": "[encoded data removed]",
      "text/plain": [
       "<Figure size 1200x600 with 1 Axes>"
      ]
     },
     "metadata": {},
     "output_type": "display_data"
    }
   ],
   "source": [
    "plt.style.use('seaborn-v0_8')\n",
    "\n",
    "plt.figure(figsize=(12,6))\n",
    "media_mensual.plot(marker=\"o\", color=\"red\", linewidth=2)\n",
    "\n",
    "'''\n",
    "fig,ax = plt.subplots()\n",
    "ax.plot(media_mensual, c='red')\n",
    "'''\n",
    "\n",
    "plt.show()"
   ]
  },
  {
   "cell_type": "code",
   "execution_count": null,
   "id": "1858522c-87e0-4e12-8fac-7aacb57252d6",
   "metadata": {},
   "outputs": [],
   "source": []
  }
 ],
 "metadata": {
  "kernelspec": {
   "display_name": "Python 3 (ipykernel)",
   "language": "python",
   "name": "python3"
  },
  "language_info": {
   "codemirror_mode": {
    "name": "ipython",
    "version": 3
   },
   "file_extension": ".py",
   "mimetype": "text/x-python",
   "name": "python",
   "nbconvert_exporter": "python",
   "pygments_lexer": "ipython3",
   "version": "3.13.5"
  }
 },
 "nbformat": 4,
 "nbformat_minor": 5
}
