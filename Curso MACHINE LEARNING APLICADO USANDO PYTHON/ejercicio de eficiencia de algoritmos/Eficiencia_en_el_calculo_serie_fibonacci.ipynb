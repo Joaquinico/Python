{
 "cells": [
  {
   "cell_type": "markdown",
   "id": "104ffe78-27b2-4ecc-857c-15f397cc5ee7",
   "metadata": {},
   "source": [
    "\n",
    "#### 1. Genera, en primer lugar, el código necesario para determinar el elemento n-ésimo de la sucesión de Fibonacci. \n",
    "####    Trata de emplear, para ello, una función que devuelva el valor correspondiente en caso de que n sea 0 o 1 y que, en otro caso, \n",
    "####    proporcione la suma de los términos precedentes, llamándose a sí misma hasta alcanzar los dos primeros términos. \n",
    "#### 2. medir su eficiencia.\n",
    "   \n",
    "    \n",
    "#### Otra fórmula que permite calcular el elemento n-ésimo de la sucesión de Fibonacci es la siguiente, con el uso de la fórmula de Binet, \n",
    "#### que hace uso de la proporción aurea:\n",
    "#### 1. Genera el código necesario para determinar el elemento n-ésimo de la sucesión de Fibonacci a través de este segundo enfoque.\n",
    "####    Recuerda que, para calcular raíces cuadradas en Python, necesitas la función sqrt de la librería math; por ejemplo, print(sqrt(4)) \n",
    "####    da como salida el valor 2. Ten en cuenta, además, que la potenciación se representa en Python con 2 asteriscos.\n",
    "#### 2. ¿Cuál de estos dos algoritmos crees, a priori, que será más eficiente? Justifica tu respuesta.\n",
    "#### 3. Computa el tiempo invertido por cada uno de estos algoritmos en el cálculo del elemento 40 de la sucesión de Fibonacci. \n",
    "\n",
    "####     <font color=\"orange\">\"Introduce la posicion de la serie de Fibonacci que quieres calcular: 45\"</font>\n",
    "#### <font color=\"blue\">el valor del 45º elemento de la serie de fibonacci es : <font color=\"red\">1134903170</font>\n",
    "#### <font color=\"blue\">El tiempo empleado en el calculo es de: <font color=\"red\">0:03:29.382933</font>\n",
    "#### <font color=\"blue\">formula para hallar el enesimo numero de la serie usando recursividad: <font color=\"purple\">fn = fn-1 + fn-2 (considerando f0 = 0)</font>\n",
    "\n",
    "#### --------------------------------------------------------------------------------------\n",
    "\n",
    "#### <font color=\"green\">Valor de fi (Proporcion aurea) = <font color=\"red\">1.618033988749895</font>\n",
    "#### <font color=\"green\">el valor del 45º elemento de la serie de fibonacci calculado con la formula de Binet es : <font color=\"red\">1134903170</font>\n",
    "#### <font color=\"green\">El tiempo empleado en el calculo usando la formual de Binet es de: <font color=\"red\">0:00:00.000099</font>\n",
    "#### <font color=\"green\">formula de Binet usada para el calculo: <font color=\"purple\">((((1 + math.sqrt(5)) / 2) ** n) - (((1 - math.sqrt(5)) / 2) ** n)) / math.sqrt(5)</font>\n"
   ]
  },
  {
   "cell_type": "markdown",
   "id": "39f03036-7f8c-45ec-a652-52dddc4246de",
   "metadata": {},
   "source": [
    "#### SE CARGAN LAS FUCIONES A USAR"
   ]
  },
  {
   "cell_type": "code",
   "execution_count": 1,
   "id": "ce628f20-9330-40f1-a792-75c75187f712",
   "metadata": {},
   "outputs": [],
   "source": [
    "from datetime import datetime\n",
    "import math"
   ]
  },
  {
   "cell_type": "markdown",
   "id": "393fc977-8bd4-42d0-b6e1-38d568f157ae",
   "metadata": {},
   "source": [
    "#### funcion recursiva para el calculo del enesimo elemto de la serie de Fibonacci"
   ]
  },
  {
   "cell_type": "code",
   "execution_count": 2,
   "id": "5e8e8da7-6da2-4dd1-b5c5-75bc91712e70",
   "metadata": {},
   "outputs": [],
   "source": [
    "def calculo_fibonacci(n):\n",
    "    \n",
    "    if n == 0:\n",
    "        return 0\n",
    "    elif n == 1:\n",
    "        return 1\n",
    "    else:\n",
    "        return calculo_fibonacci(n-1) + calculo_fibonacci(n-2)"
   ]
  },
  {
   "cell_type": "markdown",
   "id": "fd183148-be48-410c-8f62-272505d6ee7b",
   "metadata": {},
   "source": [
    "#### funcion para el calculo del enesimo elemto de la serie de Fibonacci usando la formula de Binet"
   ]
  },
  {
   "cell_type": "code",
   "execution_count": 3,
   "id": "3fac0442-80b1-4e83-bf2b-9e39ed2132d9",
   "metadata": {},
   "outputs": [],
   "source": [
    "def Calculo_n_fibonacci_Binet(n):\n",
    "\n",
    "    r5 = math.sqrt(5)\n",
    "    \n",
    "\n",
    "    fi = (1 + math.sqrt(5)) / 2\n",
    "    print(f'Valor de fi (Proporcion aurea) = {fi}')\n",
    "\n",
    "    fn = ((((1 + math.sqrt(5)) / 2) ** n) - (((1 - math.sqrt(5)) / 2) ** n)) / math.sqrt(5)\n",
    "\n",
    "    return round(fn)"
   ]
  },
  {
   "cell_type": "markdown",
   "id": "8dc00a95-83ee-4d17-908d-1f8454c04716",
   "metadata": {},
   "source": [
    "#### se le pide un valor de n al usuario"
   ]
  },
  {
   "cell_type": "code",
   "execution_count": 4,
   "id": "72397104-d7b5-4d78-b268-76598ce68e15",
   "metadata": {},
   "outputs": [
    {
     "name": "stdin",
     "output_type": "stream",
     "text": [
      "Introduce la posicion de la serie de Fibonacci que quieres calcular:  45\n"
     ]
    }
   ],
   "source": [
    "n = int(input(\"Introduce la posicion de la serie de Fibonacci que quieres calcular: \"))"
   ]
  },
  {
   "cell_type": "markdown",
   "id": "45ac69e5-dbe2-44c5-a5a4-dacc60f935de",
   "metadata": {},
   "source": [
    "#### Se llama a las funciones y se calculan los tiempos de ejecucion"
   ]
  },
  {
   "cell_type": "code",
   "execution_count": 5,
   "id": "75da1b4d-e5b5-4a2d-a419-187a2a8a39b0",
   "metadata": {},
   "outputs": [
    {
     "name": "stdout",
     "output_type": "stream",
     "text": [
      "el valor del 45º elemento de la serie de fibonacci es : 1134903170\n",
      "El tiempo empleado en el calculo es de: 0:03:29.382933\n",
      "formula para hallar el enesimo numero de la serie usando recursividad: fn = fn-1 + fn-2 (considerando f0 = 0)\n",
      "\n",
      "\n",
      "Valor de fi (Proporcion aurea) = 1.618033988749895\n",
      "el valor del 45º elemento de la serie de fibonacci calculado con la formula de Binet es :  1134903170\n",
      "El tiempo empleado en el calculo usando la formual de Binet es de: 0:00:00.000099\n",
      "formula de Binet usada para el calculo: ((((1 + math.sqrt(5)) / 2) ** n) - (((1 - math.sqrt(5)) / 2) ** n)) / math.sqrt(5)\n"
     ]
    }
   ],
   "source": [
    "''' Calculo usando funcion recursiva con al formula del calculo de fn de Fibonacci'''\n",
    "t_inicial = datetime.now()\n",
    "print(f'el valor del {n}º elemento de la serie de fibonacci es : {calculo_fibonacci(n)}')\n",
    "t_final = datetime.now()\n",
    "print(f'El tiempo empleado en el calculo es de: {t_final-t_inicial}')\n",
    "print('formula para hallar el enesimo numero de la serie usando recursividad: fn = fn-1 + fn-2 (considerando f0 = 0)')\n",
    "print('\\n') \n",
    "\n",
    "''' calculo Usando la formula de Binet'''\n",
    "t_inicial_con_binet = datetime.now()\n",
    "print(f'el valor del {n}º elemento de la serie de fibonacci calculado con la formula de Binet es : {Calculo_n_fibonacci_Binet(n): }')\n",
    "t_final_con_binet = datetime.now()\n",
    "print(f'El tiempo empleado en el calculo usando la formual de Binet es de: {t_final_con_binet-t_inicial_con_binet}')\n",
    "print('formula de Binet usada para el calculo: ((((1 + math.sqrt(5)) / 2) ** n) - (((1 - math.sqrt(5)) / 2) ** n)) / math.sqrt(5)')"
   ]
  },
  {
   "cell_type": "code",
   "execution_count": null,
   "id": "bbcee517-602d-45eb-b2e8-19d05e2a8fda",
   "metadata": {},
   "outputs": [],
   "source": []
  }
 ],
 "metadata": {
  "kernelspec": {
   "display_name": "Python 3 (ipykernel)",
   "language": "python",
   "name": "python3"
  },
  "language_info": {
   "codemirror_mode": {
    "name": "ipython",
    "version": 3
   },
   "file_extension": ".py",
   "mimetype": "text/x-python",
   "name": "python",
   "nbconvert_exporter": "python",
   "pygments_lexer": "ipython3",
   "version": "3.13.5"
  }
 },
 "nbformat": 4,
 "nbformat_minor": 5
}
