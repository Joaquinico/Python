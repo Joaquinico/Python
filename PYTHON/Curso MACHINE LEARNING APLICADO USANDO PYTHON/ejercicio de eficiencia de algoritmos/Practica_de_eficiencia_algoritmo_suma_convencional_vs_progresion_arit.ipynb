{
 "cells": [
  {
   "cell_type": "code",
   "execution_count": null,
   "id": "eebeabe3-5099-4509-aba1-13f2a4666326",
   "metadata": {},
   "outputs": [],
   "source": []
  },
  {
   "cell_type": "markdown",
   "id": "cbc357d5-ca73-4328-8300-c8f26003f1db",
   "metadata": {},
   "source": [
    "\n",
    "## objetivos: \n",
    "### - calcular la suma de un conjunto de números correlativos\n",
    "### - calcular la suma de un conjunto de números usando progresion aritmetica para comprobar la eficiencia sobre la suma convencional\n",
    "\n",
    "## Resultado: \n",
    "### tiempo usado para el calculo convencional: 0:00:02.023689\n",
    "### Resultado de la suma de los primeros 50000000 numeros: 1250000025000000\n",
    "           \n",
    "### tiempo usado para el calculo con progresion aritmetica: 0:00:00.000002\n",
    "### total de la suma de los primeros 50000000 numero: 12500002500000.0\n",
    "\n"
   ]
  },
  {
   "cell_type": "markdown",
   "id": "05b23bfd-b22e-4cbc-bd79-a3ce9ba924cf",
   "metadata": {},
   "source": [
    "#### Usamos la libreria datetime para contar el tiempo empleado en cada caso"
   ]
  },
  {
   "cell_type": "code",
   "execution_count": 2,
   "id": "df5b0ec2-1465-407c-8703-61fa0fffa90d",
   "metadata": {},
   "outputs": [],
   "source": [
    "from datetime import datetime"
   ]
  },
  {
   "cell_type": "markdown",
   "id": "a8ac8dd8-52e6-43fd-b4bd-e8e038ce13e7",
   "metadata": {},
   "source": [
    "#### funciones con las sumas"
   ]
  },
  {
   "cell_type": "code",
   "execution_count": 3,
   "id": "da94a5ac-0202-4d47-b246-44db40e7a744",
   "metadata": {},
   "outputs": [],
   "source": [
    "def suma_convencional(num):\n",
    "    inicio = datetime.now()\n",
    "    resultado=0\n",
    "    for n in range(num+1):\n",
    "        resultado+=n\n",
    "    return inicio, resultado\n",
    "\n",
    "\n",
    "def suma_progresion_aritmetica(num):\n",
    "    inicio = datetime.now()\n",
    "    resultado_con_pro_arit = (num * (num+1)) / 2\n",
    "    return inicio, resultado_con_pro_arit"
   ]
  },
  {
   "cell_type": "markdown",
   "id": "04bca3ef-95a8-4ad6-a9f6-c12bf20fefd5",
   "metadata": {},
   "source": [
    "#### llamamos a las funciones y realizamos los calculos del tiempo empleado"
   ]
  },
  {
   "cell_type": "code",
   "execution_count": 4,
   "id": "7d500dda-cc2d-4630-a2ee-41ff474b8cfa",
   "metadata": {},
   "outputs": [
    {
     "name": "stdout",
     "output_type": "stream",
     "text": [
      "tiempo usado para el calculo convencional: 0:00:02.026650\n",
      "Resultado de la suma de los primeros 50000000 numeros: 1250000025000000\n",
      "tiempo usado para el calculo con progresion aritmetica: 0:00:00.000023\n",
      "total de la suma de los primeros 50000000 numero: 12500002500000.0\n"
     ]
    }
   ],
   "source": [
    "primeros_n_num = 50000000\n",
    "t_inicio, resultado = suma_convencional(primeros_n_num)\n",
    "t_final = datetime.now()\n",
    "\n",
    "t_inicio_con_pro, resultado_con_pro = suma_progresion_aritmetica(5000000)\n",
    "t_fin_con_pro = datetime.now()\n",
    "\n",
    "print(f'tiempo usado para el calculo convencional: {t_final - t_inicio}')\n",
    "print(f'Resultado de la suma de los primeros {primeros_n_num} numeros: {resultado}')\n",
    "\n",
    "\n",
    "print(f'tiempo usado para el calculo con progresion aritmetica: {t_fin_con_pro - t_inicio_con_pro}')\n",
    "print(f'total de la suma de los primeros {primeros_n_num} numero: {resultado_con_pro}')"
   ]
  }
 ],
 "metadata": {
  "kernelspec": {
   "display_name": "Python 3 (ipykernel)",
   "language": "python",
   "name": "python3"
  },
  "language_info": {
   "codemirror_mode": {
    "name": "ipython",
    "version": 3
   },
   "file_extension": ".py",
   "mimetype": "text/x-python",
   "name": "python",
   "nbconvert_exporter": "python",
   "pygments_lexer": "ipython3",
   "version": "3.13.5"
  }
 },
 "nbformat": 4,
 "nbformat_minor": 5
}
